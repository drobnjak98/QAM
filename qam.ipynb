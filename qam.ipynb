{
 "cells": [
  {
   "cell_type": "code",
   "execution_count": 40,
   "metadata": {},
   "outputs": [],
   "source": [
    "from numpy import  zeros, array, random, sqrt, floor, bitwise_xor\n",
    "from numpy.random import randint"
   ]
  },
  {
   "cell_type": "markdown",
   "metadata": {},
   "source": [
    "Kvadraturna amplitudska modulacija (QAM) koristi se za slanje vise bita podataka odjednom. Podaci koji se salju dele se u dva niza, kojima se modeliraju I i Q komponenta signala. Modulacija u obe grane je amplitudska, a amplituda signala na izlazu zavisi od odredjenog broja bita koji se salju. Broj bitova koji se istovremeno salju predstavljen je sa M, a ukupan broj podataka od M bita sa symbol_num. Signal koji se salje moze biti pojacan sa G. U kodu se nasumicno bira M*symbol_num bitova."
   ]
  },
  {
   "cell_type": "code",
   "execution_count": 41,
   "metadata": {},
   "outputs": [
    {
     "data": {
      "text/plain": [
       "array([0, 0, 0, 1, 0, 1, 0, 0, 0, 0, 0, 0, 0, 1, 1, 0, 1, 1, 0, 1, 1, 1,\n",
       "       1, 0, 1, 0, 1, 1, 0, 1, 1, 0, 1, 0, 1, 0, 0, 0, 1, 0, 1, 0, 0, 0,\n",
       "       1, 0, 1, 0, 1, 1, 1, 0, 1, 1, 1, 1, 0, 1, 1, 1, 0, 0, 0, 1, 0, 0,\n",
       "       1, 0, 1, 1, 0, 0, 0, 1, 1, 1, 0, 0, 0, 1, 0, 0, 0, 1, 1, 1, 1, 1,\n",
       "       1, 1, 1, 0, 1, 0, 1, 1, 1, 0, 1, 1, 0, 0, 1, 1, 0, 1, 1, 1, 1, 0,\n",
       "       0, 0, 0, 0, 0, 1, 0, 0, 1, 0, 0, 1, 1, 1, 1, 0, 1, 1, 0, 1, 1, 0,\n",
       "       0, 1, 1, 1, 1, 0, 1, 0, 1, 0, 1, 0, 1, 1, 0, 0, 1, 1, 0, 1, 0, 0,\n",
       "       0, 0, 1, 0, 0, 0])"
      ]
     },
     "execution_count": 41,
     "metadata": {},
     "output_type": "execute_result"
    }
   ],
   "source": [
    "symbol_num = 20\n",
    "M = 8\n",
    "G = 1\n",
    "\n",
    "data_input = randint(2, size=M*symbol_num)\n",
    "data_input"
   ]
  },
  {
   "cell_type": "markdown",
   "metadata": {},
   "source": [
    "Vrednosti koje mogu imati komponente I i Q se dobijaju iz formule ispod. Ove vrednosti su pojacane sa G."
   ]
  },
  {
   "cell_type": "code",
   "execution_count": 42,
   "metadata": {},
   "outputs": [
    {
     "data": {
      "text/plain": [
       "array([-15, -13, -11,  -9,  -7,  -5,  -3,  -1,   1,   3,   5,   7,   9,\n",
       "        11,  13,  15])"
      ]
     },
     "execution_count": 42,
     "metadata": {},
     "output_type": "execute_result"
    }
   ],
   "source": [
    "a = array(range(int(2**(M/2))))\n",
    "\n",
    "for i in range(int(2**(M/2))):\n",
    "    a[i]=G*((-(2**(M/2))+1)+2*i)\n",
    "a"
   ]
  },
  {
   "cell_type": "markdown",
   "metadata": {},
   "source": [
    "Ako je, na primer, jedan simbol 0111, a njegov susedni 1000, u slucaju pojave suma bice promenjena sva 4 bita. Da bi se izbegle prevelike greske usled suma, susedni simboli se razlikuju za po jedan bit. U tu svrhu se koristi Grejev kod."
   ]
  },
  {
   "cell_type": "code",
   "execution_count": 43,
   "metadata": {},
   "outputs": [
    {
     "data": {
      "text/plain": [
       "array([ 0,  1,  3,  2,  6,  7,  5,  4, 12, 13, 15, 14, 10, 11,  9,  8],\n",
       "      dtype=int32)"
      ]
     },
     "execution_count": 43,
     "metadata": {},
     "output_type": "execute_result"
    }
   ],
   "source": [
    "vect = array(range(int(2**(M/2))))\n",
    "gray_code = bitwise_xor(vect, floor(vect/2).astype(int))\n",
    "gray_code"
   ]
  },
  {
   "cell_type": "markdown",
   "metadata": {},
   "source": [
    "Kod se deli na sekvence od M bita koji se istovremeno salju."
   ]
  },
  {
   "cell_type": "code",
   "execution_count": 44,
   "metadata": {},
   "outputs": [
    {
     "data": {
      "text/plain": [
       "array([[0, 0, 0, 1, 0, 1, 0, 0],\n",
       "       [0, 0, 0, 0, 0, 1, 1, 0],\n",
       "       [1, 1, 0, 1, 1, 1, 1, 0],\n",
       "       [1, 0, 1, 1, 0, 1, 1, 0],\n",
       "       [1, 0, 1, 0, 0, 0, 1, 0],\n",
       "       [1, 0, 0, 0, 1, 0, 1, 0],\n",
       "       [1, 1, 1, 0, 1, 1, 1, 1],\n",
       "       [0, 1, 1, 1, 0, 0, 0, 1],\n",
       "       [0, 0, 1, 0, 1, 1, 0, 0],\n",
       "       [0, 1, 1, 1, 0, 0, 0, 1],\n",
       "       [0, 0, 0, 1, 1, 1, 1, 1],\n",
       "       [1, 1, 1, 0, 1, 0, 1, 1],\n",
       "       [1, 0, 1, 1, 0, 0, 1, 1],\n",
       "       [0, 1, 1, 1, 1, 0, 0, 0],\n",
       "       [0, 0, 0, 1, 0, 0, 1, 0],\n",
       "       [0, 1, 1, 1, 1, 0, 1, 1],\n",
       "       [0, 1, 1, 0, 0, 1, 1, 1],\n",
       "       [1, 0, 1, 0, 1, 0, 1, 0],\n",
       "       [1, 1, 0, 0, 1, 1, 0, 1],\n",
       "       [0, 0, 0, 0, 1, 0, 0, 0]])"
      ]
     },
     "execution_count": 44,
     "metadata": {},
     "output_type": "execute_result"
    }
   ],
   "source": [
    "data_input = data_input.reshape((-1,M))\n",
    "data_input"
   ]
  },
  {
   "cell_type": "markdown",
   "metadata": {},
   "source": [
    "Prvih M/2 bita odlazi kod I, a drugih M/2 kod Q. Bitovi se predstavljaju Grejevim kodom, i u zavisnosti od simbola za I i Q, podaci se salju u tom regionu."
   ]
  },
  {
   "cell_type": "code",
   "execution_count": 45,
   "metadata": {},
   "outputs": [
    {
     "data": {
      "text/plain": [
       "array([-13. -3.j, -15. -5.j,   7. +3.j,  13. -5.j,  15. -9.j,   9.+15.j,\n",
       "         3. +1.j,  -7.-13.j,  -9. +5.j,  -7.-13.j, -13. +1.j,   3.+13.j,\n",
       "        13.-11.j,  -7. +9.j, -13. -9.j,  -7.+13.j,  -5. -7.j,  15.+15.j,\n",
       "         5. +7.j, -15. +9.j])"
      ]
     },
     "execution_count": 45,
     "metadata": {},
     "output_type": "execute_result"
    }
   ],
   "source": [
    "I = zeros((data_input.shape[0],))\n",
    "Q = zeros((data_input.shape[0],))\n",
    "for n in range(int(data_input.shape[1] / 2)):\n",
    "    I = I + data_input[:,n] * 2 ** (int(data_input.shape[1]/2)-1-n)\n",
    "for n in range(int(data_input.shape[1]/2),int(data_input.shape[1])):\n",
    "    Q = Q + data_input[:,n] * 2 ** (int(data_input.shape[1])-1-n)\n",
    "\n",
    "I = I.astype(int)\n",
    "Q = Q.astype(int)\n",
    "\n",
    "I = gray_code[I]\n",
    "Q = gray_code[Q]\n",
    "I = a[I]\n",
    "Q = a[Q]\n",
    "\n",
    "I = I.astype(float)\n",
    "Q = Q.astype(float)\n",
    "\n",
    "S = I + 1j * Q\n",
    "S"
   ]
  },
  {
   "cell_type": "markdown",
   "metadata": {},
   "source": [
    "Tokom slanja podataka moze doci do pojave suma tako da podaci ne budu na istom mestu kada stignu na odrediste. Ponekad se mogu naci i u regionu drugog simbola."
   ]
  },
  {
   "cell_type": "code",
   "execution_count": 46,
   "metadata": {},
   "outputs": [
    {
     "data": {
      "text/plain": [
       "array([-14.02 -3.54j, -15.99 -4.68j,   6.06 +2.48j,  14.21 -5.29j,\n",
       "        13.92 -9.02j,   9.2 +15.98j,   4.09 -0.06j,  -7.42-13.09j,\n",
       "        -8.92 +4.66j,  -5.72-13.42j, -12.02 +1.45j,   3.97+14.29j,\n",
       "        13.33-10.29j,  -7.99 +8.53j, -13.07 -8.7j ,  -7.67+13.17j,\n",
       "        -4.63 -7.76j,  16.3 +14.19j,   5.85 +6.26j, -14.72 +8.68j])"
      ]
     },
     "execution_count": 46,
     "metadata": {},
     "output_type": "execute_result"
    }
   ],
   "source": [
    "noise = 1.3\n",
    "In = array(range(len(I)))\n",
    "Qn = array(range(len(Q)))\n",
    "In = In.astype(float)\n",
    "Qn = Qn.astype(float)\n",
    "for i in range(len(I)):\n",
    "    In[i] = I[i]+ round(noise*G-2*noise*G* random.rand(),2)\n",
    "for i in range(len(Q)):\n",
    "    Qn[i] = Q[i]+ round(noise*G-2*noise*G* random.rand(),2)\n",
    "    \n",
    "Sn = In + 1j * Qn\n",
    "Sn"
   ]
  },
  {
   "cell_type": "markdown",
   "metadata": {},
   "source": [
    "Kada podaci stignu na odrediste, odredjuju se simboli kojima su stigli. Postupak je uglavnom precizan ako sum nije prevelik."
   ]
  },
  {
   "cell_type": "code",
   "execution_count": 47,
   "metadata": {},
   "outputs": [
    {
     "data": {
      "text/plain": [
       "array([-15. -3.j, -15. -5.j,   7. +3.j,  15. -5.j,  13. -9.j,   9.+15.j,\n",
       "         5. -1.j,  -7.-13.j,  -9. +5.j,  -5.-13.j, -13. +1.j,   3.+15.j,\n",
       "        13.-11.j,  -7. +9.j, -13. -9.j,  -7.+13.j,  -5. -7.j,  15.+15.j,\n",
       "         5. +7.j, -15. +9.j])"
      ]
     },
     "execution_count": 47,
     "metadata": {},
     "output_type": "execute_result"
    }
   ],
   "source": [
    "Id=I\n",
    "Qd=Q\n",
    "amax=int(2**(M/2)-1)\n",
    "for i in range(len(I)):\n",
    "    if Id[i]!=a[0] and Qd[i]!=a[amax]:\n",
    "        if sqrt((Id[i]-In[i])**2 + (Qd[i]-Qn[i])**2) > sqrt((Id[i]-2*G-In[i])**2 + (Qd[i]+2*G-Qn[i])**2):\n",
    "            Id[i]=Id[i]-2*G\n",
    "            Qd[i]=Qd[i]+2*G\n",
    "    if Qd[i]!=a[amax]:\n",
    "        if sqrt((Id[i]-In[i])**2 + (Qd[i]-Qn[i])**2) > sqrt((Id[i]-In[i])**2 + (Qd[i]+2*G-Qn[i])**2):\n",
    "            Id[i]=Id[i]\n",
    "            Qd[i]=Qd[i]+2*G\n",
    "    if Id[i]!=a[amax] and Qd[i]!=a[amax]:\n",
    "        if sqrt((Id[i]-In[i])**2 + (Qd[i]-Qn[i])**2) > sqrt((Id[i]+2*G-In[i])**2 + (Qd[i]+2*G-Qn[i])**2):\n",
    "            Id[i]=Id[i]+2*G\n",
    "            Qd[i]=Qd[i]+2*G\n",
    "    if Id[i]!=a[amax]:\n",
    "        if sqrt((Id[i]-In[i])**2 + (Qd[i]-Qn[i])**2) > sqrt((Id[i]+2*G-In[i])**2 + (Qd[i]-Qn[i])**2):\n",
    "            Id[i]=Id[i]+2*G\n",
    "            Qd[i]=Qd[i]\n",
    "    if Id[i]!=a[amax] and Qd[i]!=a[0]:\n",
    "        if sqrt((Id[i]-In[i])**2 + (Qd[i]-Qn[i])**2) > sqrt((Id[i]+2*G-In[i])**2 + (Qd[i]-2*G-Qn[i])**2):\n",
    "            Id[i]=Id[i]+2*G\n",
    "            Qd[i]=Qd[i]-2*G\n",
    "    if Qd[i]!=a[0]:\n",
    "        if sqrt((Id[i]-In[i])**2 + (Qd[i]-Qn[i])**2) > sqrt((Id[i]-In[i])**2 + (Qd[i]-2*G-Qn[i])**2):\n",
    "            Id[i]=Id[i]\n",
    "            Qd[i]=Qd[i]-2*G\n",
    "    if Id[i]!=a[0] and Qd[i]!=a[0]:\n",
    "        if sqrt((Id[i]-In[i])**2 + (Qd[i]-Qn[i])**2) > sqrt((Id[i]-2*G-In[i])**2 + (Qd[i]-2*G-Qn[i])**2):\n",
    "            Id[i]=Id[i]-2*G\n",
    "            Qd[i]=Qd[i]-2*G\n",
    "    if Id[i]!=a[0]:\n",
    "        if sqrt((Id[i]-In[i])**2 + (Qd[i]-Qn[i])**2) > sqrt((Id[i]-2*G-In[i])**2 + (Qd[i]-Qn[i])**2):\n",
    "            Id[i]=Id[i]-2*G\n",
    "            Qd[i]=Qd[i]\n",
    "Sd=Id + 1j* Qd\n",
    "Sd"
   ]
  },
  {
   "cell_type": "markdown",
   "metadata": {},
   "source": [
    "Simboli se na kraju pretvaraju u Grejev kod, a onda se pristigli bitovi grupisu i dobija se niz slican ulaznom"
   ]
  },
  {
   "cell_type": "code",
   "execution_count": 48,
   "metadata": {},
   "outputs": [
    {
     "data": {
      "text/plain": [
       "array([0, 0, 0, 0, 0, 1, 0, 0, 0, 0, 0, 0, 0, 1, 1, 0, 1, 1, 0, 1, 1, 1,\n",
       "       1, 0, 1, 0, 1, 0, 0, 1, 1, 0, 1, 0, 1, 1, 0, 0, 1, 0, 1, 0, 0, 0,\n",
       "       1, 0, 1, 0, 1, 1, 0, 0, 0, 1, 0, 1, 0, 1, 1, 1, 0, 0, 0, 1, 0, 0,\n",
       "       1, 0, 1, 1, 0, 0, 0, 1, 1, 0, 0, 0, 0, 1, 0, 0, 0, 1, 1, 1, 1, 1,\n",
       "       1, 1, 1, 0, 1, 0, 1, 0, 1, 0, 1, 1, 0, 0, 1, 1, 0, 1, 1, 1, 1, 0,\n",
       "       0, 0, 0, 0, 0, 1, 0, 0, 1, 0, 0, 1, 1, 1, 1, 0, 1, 1, 0, 1, 1, 0,\n",
       "       0, 1, 1, 1, 1, 0, 1, 0, 1, 0, 1, 0, 1, 1, 0, 0, 1, 1, 0, 1, 0, 0,\n",
       "       0, 0, 1, 0, 0, 0])"
      ]
     },
     "execution_count": 48,
     "metadata": {},
     "output_type": "execute_result"
    }
   ],
   "source": [
    "Id=Id.astype(int)\n",
    "Qd=Qd.astype(int)\n",
    "dictnums={}\n",
    "for i in range(int(2**(M/2))):\n",
    "    dictnums.update({a[i] : i})\n",
    "for i in range(len(I)):\n",
    "    Id[i]=dictnums.get(Id[i])\n",
    "    Qd[i]=dictnums.get(Qd[i])   \n",
    "dictbits={}\n",
    "for i in range(int(2**(M/2))):\n",
    "    dictbits.update({gray_code[i] : i})\n",
    "for i in range(len(I)):\n",
    "    Id[i]=dictbits.get(Id[i])\n",
    "    Qd[i]=dictbits.get(Qd[i])\n",
    "\n",
    "data_exit=[]\n",
    "for i in range(len(Id)):\n",
    "    e=[]\n",
    "    x=0\n",
    "    while x < M/2:\n",
    "        b= Id[i] % 2\n",
    "        e.append(b)\n",
    "        Id[i]=Id[i]/2\n",
    "        x=x+1\n",
    "    e.reverse()\n",
    "    data_exit.extend(e)\n",
    "    f=[]\n",
    "    y=0\n",
    "    while y < M/2:\n",
    "        c= Qd[i] % 2\n",
    "        f.append(c)\n",
    "        Qd[i]=Qd[i]/2\n",
    "        y=y+1\n",
    "    f.reverse()\n",
    "    data_exit.extend(f)\n",
    "data_exit=array(data_exit)\n",
    "data_exit"
   ]
  }
 ],
 "metadata": {
  "kernelspec": {
   "display_name": "Python 3",
   "language": "python",
   "name": "python3"
  },
  "language_info": {
   "codemirror_mode": {
    "name": "ipython",
    "version": 3
   },
   "file_extension": ".py",
   "mimetype": "text/x-python",
   "name": "python",
   "nbconvert_exporter": "python",
   "pygments_lexer": "ipython3",
   "version": "3.7.6"
  }
 },
 "nbformat": 4,
 "nbformat_minor": 4
}
